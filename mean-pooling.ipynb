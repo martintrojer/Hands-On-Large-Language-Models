{
 "cells": [
  {
   "cell_type": "code",
   "execution_count": 5,
   "metadata": {},
   "outputs": [
    {
     "name": "stdout",
     "output_type": "stream",
     "text": [
      "torch.Size([10, 768])\n"
     ]
    },
    {
     "data": {
      "text/plain": [
       "tensor([[0.0013, 0.0012, 0.0014,  ..., 0.0014, 0.0015, 0.0011],\n",
       "        [0.0014, 0.0011, 0.0013,  ..., 0.0012, 0.0013, 0.0014],\n",
       "        [0.0012, 0.0013, 0.0014,  ..., 0.0014, 0.0013, 0.0016],\n",
       "        ...,\n",
       "        [0.0013, 0.0014, 0.0012,  ..., 0.0014, 0.0012, 0.0010],\n",
       "        [0.0013, 0.0014, 0.0013,  ..., 0.0013, 0.0014, 0.0013],\n",
       "        [0.0012, 0.0011, 0.0012,  ..., 0.0013, 0.0013, 0.0013]])"
      ]
     },
     "execution_count": 5,
     "metadata": {},
     "output_type": "execute_result"
    }
   ],
   "source": [
    "import torch \n",
    "import torch.nn.functional as F\n",
    "\n",
    "sentence_embeddings = []\n",
    "\n",
    "for i in range(10):\n",
    "    token_embeddings = torch.rand((10, 768))\n",
    "    # mean pooling tokens to get sentence embedding\n",
    "    sentence_embeddings += [torch.mean(token_embeddings, dim=0)]\n",
    "\n",
    "sentence_embeddings = torch.stack(sentence_embeddings)\n",
    "print(sentence_embeddings.shape)\n",
    "\n",
    "F.softmax(sentence_embeddings, dim=1)"
   ]
  }
 ],
 "metadata": {
  "kernelspec": {
   "display_name": "Python 3 (ipykernel)",
   "language": "python",
   "name": "python3"
  }
 },
 "nbformat": 4,
 "nbformat_minor": 2
}
